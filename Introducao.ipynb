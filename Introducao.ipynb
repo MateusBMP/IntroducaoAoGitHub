{
 "cells": [
  {
   "cell_type": "markdown",
   "metadata": {},
   "source": [
    "# Introdução ao GitHub\n",
    "\n",
    "\n",
    "**[Mateus Barros de Moura Pereira](http://lattes.cnpq.br/7887124088729940)** - mbmp@ic.ufal.br\n",
    "\n",
    "----\n",
    "\n",
    "\n",
    "# Tópicos\n",
    "\n",
    "1. [**O GitHub**](OGitHub.ipynb)\n",
    "    1. História\n",
    "    1. Objetivos\n",
    "    1. Prós e Contras\n",
    "1. [**Básico**](Basico.ipynb)\n",
    "    1. Estrutura do repositório: Local vs Cloud\n",
    "    1. Iniciando repositórios\n",
    "    1. Adição e edição de arquivos\n",
    "    1. Sincronização de repositórios\n",
    "1. [**Usando remotos**](UsandoRemotos.ipynb)\n",
    "    1. Estrutura do repositório: Origin vs Upstream\n",
    "    1. Clonando repositórios\n",
    "    1. Atualização de repositório local\n",
    "    1. Aplicando a remotos\n",
    "1. [**Boas práticas**](BoasPraticas.ipynb)\n",
    "    1. Documentação\n",
    "    1. Comentários e atualizações de códigos\n",
    "    1. Ignorando arquivos\n",
    "    1. Ramificação de código\n",
    "    \n",
    "---"
   ]
  },
  {
   "cell_type": "markdown",
   "metadata": {},
   "source": [
    "# Considerações\n",
    "\n",
    "Este tutorial básico de uso ao GitHub abordará, prioritariamente, o assunto de forma didática, voltada ao aprendizado rápido e de forma simplificada. Desta forma, o mesmo não substitui nenhum outro material complementar, muito menos a documentação oficial do GitHub e Git.\n",
    "Com isso, algumas das seguintes alterações em relação ao ensino formal poderão ser encontradas:\n",
    "    - Não esclarecimento de métodos alternativos\n",
    "    - Uso de figuras de linguagem\n",
    "    - Simplificação e alteração de significados de palavras\n",
    "    - Redução de regras e padronizações\n",
    "Para aprendizado mais aprofundado, recomenda-se a leitura da documentação oficial do [GitHub](https://git-scm.com/doc)."
   ]
  }
 ],
 "metadata": {
  "kernelspec": {
   "display_name": "Bash",
   "language": "bash",
   "name": "bash"
  },
  "language_info": {
   "codemirror_mode": "shell",
   "file_extension": ".sh",
   "mimetype": "text/x-sh",
   "name": "bash"
  }
 },
 "nbformat": 4,
 "nbformat_minor": 1
}
